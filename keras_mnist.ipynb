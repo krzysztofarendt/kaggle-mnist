{
 "cells": [
  {
   "cell_type": "code",
   "execution_count": 1,
   "metadata": {},
   "outputs": [
    {
     "name": "stderr",
     "output_type": "stream",
     "text": [
      "Using TensorFlow backend.\n"
     ]
    }
   ],
   "source": [
    "%matplotlib inline\n",
    "\n",
    "import math\n",
    "import pandas as pd\n",
    "import numpy as np\n",
    "import matplotlib.pyplot as plt\n",
    "\n",
    "from keras.models import Sequential\n",
    "from keras.layers import Dense, Activation, Dropout\n",
    "import keras.utils"
   ]
  },
  {
   "cell_type": "code",
   "execution_count": 2,
   "metadata": {},
   "outputs": [],
   "source": [
    "train = pd.read_csv('data/train.csv')"
   ]
  },
  {
   "cell_type": "code",
   "execution_count": 4,
   "metadata": {},
   "outputs": [],
   "source": [
    "# Normalize data (0..255 -> 0..1)\n",
    "train = train.apply(lambda x: x / 255. if x.name != 'label' else x)"
   ]
  },
  {
   "cell_type": "code",
   "execution_count": 10,
   "metadata": {},
   "outputs": [
    {
     "data": {
      "image/png": "[encoded data removed]",
      "text/plain": [
       "<matplotlib.figure.Figure at 0x7f55cb53b240>"
      ]
     },
     "metadata": {},
     "output_type": "display_data"
    }
   ],
   "source": [
    "def show_picture(iloc, train=train):\n",
    "    label = train.iloc[iloc]['label']\n",
    "    p = train.drop('label', axis=1).iloc[iloc].values.reshape((28, 28))\n",
    "    plt.imshow(p, cmap='gray_r')\n",
    "\n",
    "show_picture(456)"
   ]
  },
  {
   "cell_type": "code",
   "execution_count": 6,
   "metadata": {},
   "outputs": [],
   "source": [
    "# Build ANN\n",
    "model = Sequential()\n",
    "model.add(Dense(128, activation='relu', input_dim=784))\n",
    "model.add(Dropout(0.15))\n",
    "model.add(Dense(64, activation='relu'))\n",
    "model.add(Dropout(0.15))\n",
    "model.add(Dense(32, activation='relu'))\n",
    "model.add(Dropout(0.15))\n",
    "model.add(Dense(16, activation='relu'))\n",
    "model.add(Dense(10, activation='softmax'))"
   ]
  },
  {
   "cell_type": "code",
   "execution_count": 7,
   "metadata": {},
   "outputs": [],
   "source": [
    "# Prepare training data\n",
    "sample = train.sample(frac=0.9)\n",
    "x_train = sample.drop('label', axis=1).values\n",
    "y_train = sample['label'].values\n",
    "y_train = keras.utils.to_categorical(y_train, num_classes=10)\n",
    "\n",
    "# Prepare test data\n",
    "test = train.loc[[x for x in train.index if x not in sample.index]]\n",
    "x_test = test.drop('label', axis=1).values\n",
    "y_test = test['label'].values\n",
    "y_test = keras.utils.to_categorical(y_test, num_classes=10)"
   ]
  },
  {
   "cell_type": "code",
   "execution_count": 8,
   "metadata": {},
   "outputs": [
    {
     "name": "stdout",
     "output_type": "stream",
     "text": [
      "Train on 35910 samples, validate on 1890 samples\n",
      "Epoch 1/50\n",
      "35910/35910 [==============================] - 4s 107us/step - loss: 0.5893 - acc: 0.8194 - val_loss: 0.1951 - val_acc: 0.9481\n",
      "Epoch 2/50\n",
      "35910/35910 [==============================] - 3s 93us/step - loss: 0.2566 - acc: 0.9293 - val_loss: 0.1506 - val_acc: 0.9566\n",
      "Epoch 3/50\n",
      "35910/35910 [==============================] - 3s 95us/step - loss: 0.1950 - acc: 0.9473 - val_loss: 0.1251 - val_acc: 0.9672\n",
      "Epoch 4/50\n",
      "35910/35910 [==============================] - 3s 92us/step - loss: 0.1636 - acc: 0.9557 - val_loss: 0.1093 - val_acc: 0.9730\n",
      "Epoch 5/50\n",
      "35910/35910 [==============================] - 3s 93us/step - loss: 0.1425 - acc: 0.9615 - val_loss: 0.1119 - val_acc: 0.9720\n",
      "Epoch 6/50\n",
      "35910/35910 [==============================] - 3s 93us/step - loss: 0.1261 - acc: 0.9660 - val_loss: 0.1007 - val_acc: 0.9730\n",
      "Epoch 7/50\n",
      "35910/35910 [==============================] - 3s 94us/step - loss: 0.1141 - acc: 0.9703 - val_loss: 0.0999 - val_acc: 0.9746\n",
      "Epoch 8/50\n",
      "35910/35910 [==============================] - 3s 95us/step - loss: 0.1055 - acc: 0.9723 - val_loss: 0.1070 - val_acc: 0.9741\n",
      "Epoch 9/50\n",
      "35910/35910 [==============================] - 4s 100us/step - loss: 0.0980 - acc: 0.9746 - val_loss: 0.0954 - val_acc: 0.9783\n",
      "Epoch 10/50\n",
      "35910/35910 [==============================] - 3s 95us/step - loss: 0.0921 - acc: 0.9765 - val_loss: 0.1005 - val_acc: 0.9794\n",
      "Epoch 11/50\n",
      "35910/35910 [==============================] - 3s 96us/step - loss: 0.0924 - acc: 0.9762 - val_loss: 0.0932 - val_acc: 0.9815\n",
      "Epoch 12/50\n",
      "35910/35910 [==============================] - 4s 103us/step - loss: 0.0859 - acc: 0.9780 - val_loss: 0.1126 - val_acc: 0.9783\n",
      "Epoch 13/50\n",
      "35910/35910 [==============================] - 4s 100us/step - loss: 0.0848 - acc: 0.9786 - val_loss: 0.1069 - val_acc: 0.9799\n",
      "Epoch 14/50\n",
      "35910/35910 [==============================] - 3s 90us/step - loss: 0.0773 - acc: 0.9805 - val_loss: 0.1144 - val_acc: 0.9778\n",
      "Epoch 15/50\n",
      "35910/35910 [==============================] - 3s 85us/step - loss: 0.0796 - acc: 0.9805 - val_loss: 0.1120 - val_acc: 0.9788\n",
      "Epoch 16/50\n",
      "35910/35910 [==============================] - 3s 83us/step - loss: 0.0781 - acc: 0.9808 - val_loss: 0.1178 - val_acc: 0.9804\n",
      "Epoch 17/50\n",
      "35910/35910 [==============================] - 3s 92us/step - loss: 0.0720 - acc: 0.9823 - val_loss: 0.1232 - val_acc: 0.9783\n",
      "Epoch 18/50\n",
      "35910/35910 [==============================] - 3s 82us/step - loss: 0.0709 - acc: 0.9828 - val_loss: 0.1226 - val_acc: 0.9757\n",
      "Epoch 19/50\n",
      "35910/35910 [==============================] - 3s 84us/step - loss: 0.0694 - acc: 0.9831 - val_loss: 0.1382 - val_acc: 0.9772\n",
      "Epoch 20/50\n",
      "35910/35910 [==============================] - 3s 84us/step - loss: 0.0687 - acc: 0.9835 - val_loss: 0.1302 - val_acc: 0.9810\n",
      "Epoch 21/50\n",
      "35910/35910 [==============================] - 3s 84us/step - loss: 0.0701 - acc: 0.9834 - val_loss: 0.1170 - val_acc: 0.9794\n",
      "Epoch 22/50\n",
      "35910/35910 [==============================] - 3s 82us/step - loss: 0.0627 - acc: 0.9847 - val_loss: 0.1272 - val_acc: 0.9804\n",
      "Epoch 23/50\n",
      "35910/35910 [==============================] - 3s 84us/step - loss: 0.0656 - acc: 0.9846 - val_loss: 0.1357 - val_acc: 0.9794\n",
      "Epoch 24/50\n",
      "35910/35910 [==============================] - 3s 80us/step - loss: 0.0685 - acc: 0.9839 - val_loss: 0.1081 - val_acc: 0.9810\n",
      "Epoch 25/50\n",
      "35910/35910 [==============================] - 3s 81us/step - loss: 0.0657 - acc: 0.9851 - val_loss: 0.1250 - val_acc: 0.9783\n",
      "Epoch 26/50\n",
      "35910/35910 [==============================] - 3s 81us/step - loss: 0.0644 - acc: 0.9854 - val_loss: 0.1387 - val_acc: 0.9783\n",
      "Epoch 27/50\n",
      "35910/35910 [==============================] - 3s 81us/step - loss: 0.0636 - acc: 0.9858 - val_loss: 0.1268 - val_acc: 0.9810\n",
      "Epoch 28/50\n",
      "35910/35910 [==============================] - 3s 84us/step - loss: 0.0592 - acc: 0.9865 - val_loss: 0.1237 - val_acc: 0.9820\n",
      "Epoch 29/50\n",
      "35910/35910 [==============================] - 3s 81us/step - loss: 0.0603 - acc: 0.9867 - val_loss: 0.1435 - val_acc: 0.9820\n",
      "Epoch 30/50\n",
      "35910/35910 [==============================] - 3s 81us/step - loss: 0.0590 - acc: 0.9865 - val_loss: 0.1378 - val_acc: 0.9831\n",
      "Epoch 31/50\n",
      "35910/35910 [==============================] - 3s 83us/step - loss: 0.0630 - acc: 0.9853 - val_loss: 0.1358 - val_acc: 0.9820\n",
      "Epoch 32/50\n",
      "35910/35910 [==============================] - 3s 81us/step - loss: 0.0591 - acc: 0.9869 - val_loss: 0.1278 - val_acc: 0.9815\n",
      "Epoch 33/50\n",
      "35910/35910 [==============================] - 3s 80us/step - loss: 0.0590 - acc: 0.9874 - val_loss: 0.1192 - val_acc: 0.9841\n",
      "Epoch 34/50\n",
      "35910/35910 [==============================] - 3s 83us/step - loss: 0.0607 - acc: 0.9863 - val_loss: 0.1349 - val_acc: 0.9831\n",
      "Epoch 35/50\n",
      "35910/35910 [==============================] - 3s 83us/step - loss: 0.0582 - acc: 0.9877 - val_loss: 0.1509 - val_acc: 0.9815\n",
      "Epoch 36/50\n",
      "35910/35910 [==============================] - 3s 81us/step - loss: 0.0572 - acc: 0.9879 - val_loss: 0.1589 - val_acc: 0.9831\n",
      "Epoch 37/50\n",
      "35910/35910 [==============================] - 3s 83us/step - loss: 0.0591 - acc: 0.9867 - val_loss: 0.1607 - val_acc: 0.9810\n",
      "Epoch 38/50\n",
      "35910/35910 [==============================] - 3s 85us/step - loss: 0.0554 - acc: 0.9880 - val_loss: 0.1401 - val_acc: 0.9847\n",
      "Epoch 39/50\n",
      "35910/35910 [==============================] - 3s 85us/step - loss: 0.0584 - acc: 0.9881 - val_loss: 0.1508 - val_acc: 0.9820\n",
      "Epoch 40/50\n",
      "35910/35910 [==============================] - 3s 85us/step - loss: 0.0553 - acc: 0.9885 - val_loss: 0.1427 - val_acc: 0.9820\n",
      "Epoch 41/50\n",
      "35910/35910 [==============================] - 3s 83us/step - loss: 0.0555 - acc: 0.9882 - val_loss: 0.1353 - val_acc: 0.9831\n",
      "Epoch 42/50\n",
      "35910/35910 [==============================] - 3s 83us/step - loss: 0.0585 - acc: 0.9874 - val_loss: 0.1619 - val_acc: 0.9810\n",
      "Epoch 43/50\n",
      "35910/35910 [==============================] - 3s 84us/step - loss: 0.0600 - acc: 0.9881 - val_loss: 0.1502 - val_acc: 0.9804\n",
      "Epoch 44/50\n",
      "35910/35910 [==============================] - 3s 83us/step - loss: 0.0588 - acc: 0.9888 - val_loss: 0.1265 - val_acc: 0.9804\n",
      "Epoch 45/50\n",
      "35910/35910 [==============================] - 3s 83us/step - loss: 0.0568 - acc: 0.9882 - val_loss: 0.1380 - val_acc: 0.9820\n",
      "Epoch 46/50\n",
      "35910/35910 [==============================] - 3s 91us/step - loss: 0.0532 - acc: 0.9891 - val_loss: 0.1376 - val_acc: 0.9810\n",
      "Epoch 47/50\n",
      "35910/35910 [==============================] - 3s 84us/step - loss: 0.0560 - acc: 0.9879 - val_loss: 0.1251 - val_acc: 0.9825\n",
      "Epoch 48/50\n",
      "35910/35910 [==============================] - 3s 85us/step - loss: 0.0571 - acc: 0.9880 - val_loss: 0.1398 - val_acc: 0.9820\n",
      "Epoch 49/50\n",
      "35910/35910 [==============================] - 3s 82us/step - loss: 0.0549 - acc: 0.9888 - val_loss: 0.1248 - val_acc: 0.9857\n",
      "Epoch 50/50\n",
      "35910/35910 [==============================] - 3s 82us/step - loss: 0.0550 - acc: 0.9889 - val_loss: 0.1439 - val_acc: 0.9815\n"
     ]
    },
    {
     "data": {
      "text/plain": [
       "<keras.callbacks.History at 0x7f55cb371c88>"
      ]
     },
     "execution_count": 8,
     "metadata": {},
     "output_type": "execute_result"
    }
   ],
   "source": [
    "# Train ANN\n",
    "model.compile(optimizer='rmsprop',\n",
    "              loss='categorical_crossentropy',\n",
    "              metrics=['accuracy'])\n",
    "\n",
    "history = model.fit(x_train, y_train, epochs=50, batch_size=50, validation_split=0.05)"
   ]
  },
  {
   "cell_type": "code",
   "execution_count": null,
   "metadata": {},
   "outputs": [],
   "source": []
  }
 ],
 "metadata": {
  "kernelspec": {
   "display_name": "Python 3",
   "language": "python",
   "name": "python3"
  },
  "language_info": {
   "codemirror_mode": {
    "name": "ipython",
    "version": 3
   },
   "file_extension": ".py",
   "mimetype": "text/x-python",
   "name": "python",
   "nbconvert_exporter": "python",
   "pygments_lexer": "ipython3",
   "version": "3.5.2"
  }
 },
 "nbformat": 4,
 "nbformat_minor": 2
}
